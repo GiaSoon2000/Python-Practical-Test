{
 "cells": [
  {
   "cell_type": "code",
   "execution_count": 7,
   "id": "c6ad8650-f0e4-4737-9712-e0cf2885fd27",
   "metadata": {},
   "outputs": [
    {
     "name": "stdout",
     "output_type": "stream",
     "text": [
      "Word: _ _ _ _ _ _ _ _\n",
      "Incorrect guesses remaining: 6\n"
     ]
    },
    {
     "name": "stdin",
     "output_type": "stream",
     "text": [
      "Guess a letter:  d\n"
     ]
    },
    {
     "name": "stdout",
     "output_type": "stream",
     "text": [
      "You guessed: d\n",
      "Incorrect guess!\n",
      "Hangman: O\n",
      "         \n",
      "  \n",
      " \n",
      "\n",
      "Word: _ _ _ _ _ _ _ _\n",
      "Incorrect guesses remaining: 5\n"
     ]
    },
    {
     "name": "stdin",
     "output_type": "stream",
     "text": [
      "Guess a letter:  c\n"
     ]
    },
    {
     "name": "stdout",
     "output_type": "stream",
     "text": [
      "You guessed: c\n",
      "Good guess!\n",
      "Hangman: O\n",
      "         \n",
      "  \n",
      " \n",
      "\n",
      "Word: c _ _ _ _ _ _ _\n",
      "Incorrect guesses remaining: 5\n"
     ]
    },
    {
     "name": "stdin",
     "output_type": "stream",
     "text": [
      "Guess a letter:  o\n"
     ]
    },
    {
     "name": "stdout",
     "output_type": "stream",
     "text": [
      "You guessed: o\n",
      "Good guess!\n",
      "Hangman: O\n",
      "         \n",
      "  \n",
      " \n",
      "\n",
      "Word: c o _ _ _ _ _ _\n",
      "Incorrect guesses remaining: 5\n"
     ]
    },
    {
     "name": "stdin",
     "output_type": "stream",
     "text": [
      "Guess a letter:  p\n"
     ]
    },
    {
     "name": "stdout",
     "output_type": "stream",
     "text": [
      "You guessed: p\n",
      "Good guess!\n",
      "Hangman: O\n",
      "         \n",
      "  \n",
      " \n",
      "\n",
      "Word: c o _ p _ _ _ _\n",
      "Incorrect guesses remaining: 5\n"
     ]
    },
    {
     "name": "stdin",
     "output_type": "stream",
     "text": [
      "Guess a letter:  t\n"
     ]
    },
    {
     "name": "stdout",
     "output_type": "stream",
     "text": [
      "You guessed: t\n",
      "Good guess!\n",
      "Hangman: O\n",
      "         \n",
      "  \n",
      " \n",
      "\n",
      "Word: c o _ p _ t _ _\n",
      "Incorrect guesses remaining: 5\n"
     ]
    },
    {
     "name": "stdin",
     "output_type": "stream",
     "text": [
      "Guess a letter:  m\n"
     ]
    },
    {
     "name": "stdout",
     "output_type": "stream",
     "text": [
      "You guessed: m\n",
      "Good guess!\n",
      "Hangman: O\n",
      "         \n",
      "  \n",
      " \n",
      "\n",
      "Word: c o m p _ t _ _\n",
      "Incorrect guesses remaining: 5\n"
     ]
    },
    {
     "name": "stdin",
     "output_type": "stream",
     "text": [
      "Guess a letter:  m\n"
     ]
    },
    {
     "name": "stdout",
     "output_type": "stream",
     "text": [
      "You guessed: m\n",
      "You already guessed that letter. It counts as an incorrect guess.\n",
      "Hangman: O\n",
      "         |\n",
      "  \n",
      " \n",
      "\n",
      "Word: c o m p _ t _ _\n",
      "Incorrect guesses remaining: 4\n"
     ]
    },
    {
     "name": "stdin",
     "output_type": "stream",
     "text": [
      "Guess a letter:  o\n"
     ]
    },
    {
     "name": "stdout",
     "output_type": "stream",
     "text": [
      "You guessed: o\n",
      "You already guessed that letter. It counts as an incorrect guess.\n",
      "Hangman: O\n",
      "         |\n",
      "       /  \n",
      " \n",
      "\n",
      "Word: c o m p _ t _ _\n",
      "Incorrect guesses remaining: 3\n"
     ]
    },
    {
     "name": "stdin",
     "output_type": "stream",
     "text": [
      "Guess a letter:  u\n"
     ]
    },
    {
     "name": "stdout",
     "output_type": "stream",
     "text": [
      "You guessed: u\n",
      "Good guess!\n",
      "Hangman: O\n",
      "         |\n",
      "       /  \n",
      " \n",
      "\n",
      "Word: c o m p u t _ _\n",
      "Incorrect guesses remaining: 3\n"
     ]
    },
    {
     "name": "stdin",
     "output_type": "stream",
     "text": [
      "Guess a letter:  e\n"
     ]
    },
    {
     "name": "stdout",
     "output_type": "stream",
     "text": [
      "You guessed: e\n",
      "Good guess!\n",
      "Hangman: O\n",
      "         |\n",
      "       /  \n",
      " \n",
      "\n",
      "Word: c o m p u t e _\n",
      "Incorrect guesses remaining: 3\n"
     ]
    },
    {
     "name": "stdin",
     "output_type": "stream",
     "text": [
      "Guess a letter:  e\n"
     ]
    },
    {
     "name": "stdout",
     "output_type": "stream",
     "text": [
      "You guessed: e\n",
      "You already guessed that letter. It counts as an incorrect guess.\n",
      "Hangman: O\n",
      "         |\n",
      "       / | \n",
      " \n",
      "\n",
      "Word: c o m p u t e _\n",
      "Incorrect guesses remaining: 2\n"
     ]
    },
    {
     "name": "stdin",
     "output_type": "stream",
     "text": [
      "Guess a letter:  r\n"
     ]
    },
    {
     "name": "stdout",
     "output_type": "stream",
     "text": [
      "You guessed: r\n",
      "Good guess!\n",
      "Hangman: O\n",
      "         |\n",
      "       / | \n",
      " \n",
      "\n",
      "Congratulations! You guessed the word: computer\n"
     ]
    }
   ],
   "source": [
    "import random\n",
    "\n",
    "def hangman():\n",
    "    # Create a list of words (all words must be longer than six characters)\n",
    "    word_list = [\"programming\", \"hangman\", \"difficult\", \"computer\", \"python\", \"challenge\", \"developer\"]\n",
    "    \n",
    "    # Randomly select a word from the list\n",
    "    selected_word = random.choice(word_list)\n",
    "    \n",
    "    # Initialize the hidden word with underscores\n",
    "    hidden_word = [\"_\"] * len(selected_word)\n",
    "    \n",
    "    # Set the number of allowed incorrect guesses\n",
    "    allowed_incorrect_guesses = 6\n",
    "    incorrect_guesses = 0\n",
    "    \n",
    "    # Track the guessed letters\n",
    "    guessed_letters = set()\n",
    "    \n",
    "    # Game loop\n",
    "    while incorrect_guesses < allowed_incorrect_guesses and \"_\" in hidden_word:\n",
    "        # Display the current state of the word\n",
    "        print(\"Word:\", \" \".join(hidden_word))\n",
    "        print(f\"Incorrect guesses remaining: {allowed_incorrect_guesses - incorrect_guesses}\")\n",
    "        \n",
    "        # Prompt the user to guess a letter\n",
    "        guess = input(\"Guess a letter: \").lower()\n",
    "        print(f\"You guessed: {guess}\")\n",
    "        \n",
    "        # Check if the letter has already been guessed\n",
    "        if guess in guessed_letters:\n",
    "            print(\"You already guessed that letter. It counts as an incorrect guess.\")\n",
    "            incorrect_guesses += 1\n",
    "        else:\n",
    "            # Add the guessed letter to the set of guessed letters\n",
    "            guessed_letters.add(guess)\n",
    "            \n",
    "            # Check if the guessed letter is in the selected word\n",
    "            if guess in selected_word:\n",
    "                # Update the hidden word with the correct guess\n",
    "                for i, letter in enumerate(selected_word):\n",
    "                    if letter == guess:\n",
    "                        hidden_word[i] = guess\n",
    "                print(\"Good guess!\")\n",
    "            else:\n",
    "                # Increment the number of incorrect guesses\n",
    "                incorrect_guesses += 1\n",
    "                print(\"Incorrect guess!\")\n",
    "        \n",
    "        # Display the hangman visual (simple version)\n",
    "        print(\"Hangman:\", \"O\" if incorrect_guesses > 0 else \"\")\n",
    "        print(\"        \", \"|\" if incorrect_guesses > 1 else \"\")\n",
    "        print(\"       /\" if incorrect_guesses > 2 else \"\", \"|\" if incorrect_guesses > 3 else \"\", \"\\\\\" if incorrect_guesses > 4 else \"\")\n",
    "        print(\"       /\" if incorrect_guesses > 5 else \"\", \" \\\\\" if incorrect_guesses > 6 else \"\")\n",
    "        print()\n",
    "    \n",
    "    # Check if the player won or lost\n",
    "    if \"_\" not in hidden_word:\n",
    "        print(\"Congratulations! You guessed the word:\", selected_word)\n",
    "    else:\n",
    "        print(\"You ran out of guesses! The word was:\", selected_word)\n",
    "\n",
    "# Run the hangman game\n",
    "hangman()\n"
   ]
  },
  {
   "cell_type": "code",
   "execution_count": null,
   "id": "503103a6-a476-4b83-9925-d0b074cc4cfb",
   "metadata": {},
   "outputs": [],
   "source": []
  }
 ],
 "metadata": {
  "kernelspec": {
   "display_name": "Python 3 (ipykernel)",
   "language": "python",
   "name": "python3"
  },
  "language_info": {
   "codemirror_mode": {
    "name": "ipython",
    "version": 3
   },
   "file_extension": ".py",
   "mimetype": "text/x-python",
   "name": "python",
   "nbconvert_exporter": "python",
   "pygments_lexer": "ipython3",
   "version": "3.11.7"
  }
 },
 "nbformat": 4,
 "nbformat_minor": 5
}
